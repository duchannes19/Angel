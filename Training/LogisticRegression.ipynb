{
 "cells": [
  {
   "cell_type": "code",
   "execution_count": 1,
   "metadata": {},
   "outputs": [
    {
     "name": "stdout",
     "output_type": "stream",
     "text": [
      "Loading the dataset...\n",
      "Dataset Loaded Successfully!\n",
      "                                                 url        type\n",
      "0                                   br-icloud.com.br    phishing\n",
      "1                mp3raid.com/music/krizz_kaliko.html      benign\n",
      "2                    bopsecrets.org/rexroth/cr/1.htm      benign\n",
      "3  http://www.garage-pirenne.be/index.php?option=...  defacement\n",
      "4  http://adventure-nicaragua.net/index.php?optio...  defacement\n"
     ]
    }
   ],
   "source": [
    "# Load CSV file containing the database into Python\n",
    "import pandas as pd\n",
    "\n",
    "# Define the name of the file containing the database\n",
    "filename = 'malicious_phish.csv'\n",
    "\n",
    "# Load the CSV file into Python\n",
    "print('Loading the dataset...')\n",
    "\n",
    "data = pd.read_csv(filename)\n",
    "\n",
    "print('Dataset Loaded Successfully!')\n",
    "\n",
    "print(data.head())"
   ]
  },
  {
   "cell_type": "code",
   "execution_count": 2,
   "metadata": {},
   "outputs": [
    {
     "name": "stdout",
     "output_type": "stream",
     "text": [
      "Preprocessing the URLs...\n",
      "Preprocessing Completed!\n",
      "Training the model...\n",
      "Model trained successfully!\n",
      "Accuracy: 0.9489\n",
      "              precision    recall  f1-score   support\n",
      "\n",
      "      benign       0.94      0.99      0.96     85778\n",
      "  defacement       0.99      1.00      0.99     19104\n",
      "     malware       0.99      0.95      0.97      6521\n",
      "    phishing       0.92      0.73      0.81     18836\n",
      "\n",
      "    accuracy                           0.95    130239\n",
      "   macro avg       0.96      0.91      0.93    130239\n",
      "weighted avg       0.95      0.95      0.95    130239\n",
      "\n"
     ]
    },
    {
     "data": {
      "text/plain": [
       "['logistic_regression_model.pkl']"
      ]
     },
     "execution_count": 2,
     "metadata": {},
     "output_type": "execute_result"
    }
   ],
   "source": [
    "import pandas as pd\n",
    "from sklearn.feature_extraction.text import TfidfVectorizer\n",
    "from sklearn.model_selection import train_test_split\n",
    "from sklearn.linear_model import LogisticRegression\n",
    "from sklearn.metrics import accuracy_score, classification_report\n",
    "import joblib\n",
    "\n",
    "# Preprocess the URLs (e.g., tokenization)\n",
    "# Here, we'll use TF-IDF vectorization to convert the URLs into numerical features\n",
    "print('Preprocessing the URLs...')\n",
    "vectorizer = TfidfVectorizer()\n",
    "X = vectorizer.fit_transform(data['url'])\n",
    "y = data['type']\n",
    "print('Preprocessing Completed!')\n",
    "# Split the data into training and testing sets\n",
    "X_train, X_test, y_train, y_test = train_test_split(X, y, test_size=0.2, random_state=42)\n",
    "\n",
    "# Initialize and train the Logistic Regression model\n",
    "print('Training the model...')\n",
    "model = LogisticRegression(max_iter=1000, verbose=1)\n",
    "model.fit(X_train, y_train)\n",
    "\n",
    "# Make predictions on the testing data\n",
    "y_pred = model.predict(X_test)\n",
    "\n",
    "# Evaluate the model\n",
    "accuracy = accuracy_score(y_test, y_pred)\n",
    "print('Model trained successfully!')\n",
    "print(f'Accuracy: {accuracy:.4f}')\n",
    "\n",
    "# Print classification report\n",
    "print(classification_report(y_test, y_pred))\n",
    "\n",
    "# Save the trained model for later use\n",
    "model_path = 'logistic_regression_model.pkl'\n",
    "joblib.dump(model, model_path)\n"
   ]
  }
 ],
 "metadata": {
  "kernelspec": {
   "display_name": "tf",
   "language": "python",
   "name": "python3"
  },
  "language_info": {
   "codemirror_mode": {
    "name": "ipython",
    "version": 3
   },
   "file_extension": ".py",
   "mimetype": "text/x-python",
   "name": "python",
   "nbconvert_exporter": "python",
   "pygments_lexer": "ipython3",
   "version": "3.11.7"
  }
 },
 "nbformat": 4,
 "nbformat_minor": 2
}
